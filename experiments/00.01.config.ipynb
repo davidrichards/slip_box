{
 "cells": [
  {
   "cell_type": "markdown",
   "metadata": {},
   "source": [
    "# Config\n",
    "\n",
    "The configuration is a local file. I'll need:\n",
    "\n",
    "* namespacing ([Default], others)\n",
    "* root, default ~/.data_lab/slips, mkdir on that stuff\n",
    "* slips_directory: slips\n",
    "* indexes_directory: indexes (full-text indexes)\n",
    "* citations_directory: citations\n",
    "* user: name, email\n",
    "* templates_dictory: templates\n",
    "* outlines_directory: outlines\n",
    "\n",
    "Will want:\n",
    "\n",
    "create_system_directories\n",
    "nuke_slips\n",
    "copy_system"
   ]
  },
  {
   "cell_type": "code",
   "execution_count": 1,
   "metadata": {},
   "outputs": [],
   "source": [
    "from slip_box.imports import *"
   ]
  },
  {
   "cell_type": "markdown",
   "metadata": {},
   "source": [
    "## Build Configuration\n",
    "\n",
    "Make it easy to build a configuration file, read one, update it, validate it, and generally guide the slip box system from configuration."
   ]
  },
  {
   "cell_type": "code",
   "execution_count": 2,
   "metadata": {},
   "outputs": [],
   "source": [
    "def listify(o):\n",
    "    \"\"\"Create lists from objects\"\"\"\n",
    "    if o is None: return []\n",
    "    if isinstance(o, list): return o\n",
    "    if isinstance(o, str): return [o]\n",
    "    if isinstance(o, dict): return [o]\n",
    "    if isinstance(o, Iterable): return list(o)\n",
    "    return [o]\n",
    "\n",
    "def get_deep(o, keys, default=None):\n",
    "    if not hasattr(o, 'get'): return default\n",
    "    keys = listify(keys)\n",
    "    if len(keys) == 0: return default\n",
    "    key = keys.pop(0)\n",
    "    value = o.get(key, '__not_found__')\n",
    "    if value == '__not_found__': return default\n",
    "    if len(keys) == 0: return value\n",
    "    return get_deep(value, keys, default=default)\n",
    "    \n",
    "    \n",
    "def build_config(path=None, config=None, **sections):\n",
    "    \"\"\"Setup a config object.\n",
    "    Will read a file, if provided.\n",
    "    Will replace sections, if provided.\"\"\"\n",
    "    \n",
    "    # TODO: Add validation, defaults, type management\n",
    "    if config is None:\n",
    "        if not path is None:\n",
    "            config = ConfigObj(str(path))\n",
    "        else:\n",
    "            config = ConfigObj()\n",
    "\n",
    "    for section, d in sections.items():\n",
    "        if not isinstance(d, dict): continue\n",
    "        config[section] = d\n",
    "    return config\n"
   ]
  },
  {
   "cell_type": "code",
   "execution_count": 3,
   "metadata": {},
   "outputs": [],
   "source": [
    "# Default config is empty.\n",
    "config = build_config()\n",
    "assert len(config) == 0\n",
    "assert config.filename is None\n",
    "\n",
    "# get_deep helper method works.\n",
    "config = build_config(foo=dict(bar=dict(baz=dict(thud='thunk'))))\n",
    "assert get_deep(config, 'foo bar baz thud'.split()) == 'thunk'\n",
    "assert get_deep(config, 'foo bar baz leroy'.split(), default=42) == 42\n",
    "\n",
    "# Reading a file works, though without validation the type is string.\n",
    "try:\n",
    "    filename = \"/tmp/test_config.ini\"\n",
    "    remove_file(filename)\n",
    "    config = build_config(path=filename, main=dict(a=1, b=2))\n",
    "    config.write()\n",
    "    config = build_config(path=filename)\n",
    "    assert get_deep(config, 'main a'.split()) == '1'\n",
    "    assert get_deep(config, 'main b'.split()) == '2'\n",
    "    \n",
    "finally:\n",
    "    remove_file(filename)\n",
    "\n",
    "# Rebuilding doesn't attempt to merge\n",
    "rebuilt = build_config(config, main=dict(b=2, c=3))\n",
    "assert get_deep(rebuilt, 'main a'.split()) is None\n",
    "assert get_deep(rebuilt, 'main b'.split()) == 2"
   ]
  },
  {
   "cell_type": "markdown",
   "metadata": {},
   "source": [
    "### Making Sense\n",
    "\n",
    "The ConfigObj tool is worth it. It's simple enough to use, exposes the data well, and has fewer quirks than ConfigParser.\n",
    "\n",
    "The build_config function is nice because I can fold in validation and type assertions. Right now, it handles in-memory and from-file configuration. In order to save the file, assuming filename is set, call config.write(). To set the filename, just assign it: config.filename = ....\n",
    "\n",
    "### TODO\n",
    "\n",
    "* Write the [validation](http://www.voidspace.org.uk/python/articles/configobj.shtml#validation). \n",
    "* Save slips from the [ConfigObj docs](http://www.voidspace.org.uk/python/configobj.html)\n",
    "* Get defaults from validation, or else come up with something else.\n",
    "* Merge section values, when merge=True\n",
    "* Remove unset sections, when flush=True"
   ]
  },
  {
   "cell_type": "markdown",
   "metadata": {},
   "source": [
    "## Slip Box Configuration\n",
    "\n",
    "* Implement a default configuration in a default location.\n",
    "* Make sure the resulting object is easy to use.\n",
    "* Decide whether to include this in imports."
   ]
  },
  {
   "cell_type": "code",
   "execution_count": 8,
   "metadata": {},
   "outputs": [],
   "source": [
    "root = Path('/tmp')\n",
    "path = root/\"e1.ini\""
   ]
  },
  {
   "cell_type": "code",
   "execution_count": 44,
   "metadata": {},
   "outputs": [],
   "source": [
    "defaults = dict(\n",
    "    root=\"~/.data_lab/slip_box\",\n",
    "    slips_direcotry=\"slips\",\n",
    "    indexes_direcotry=\"indexes\",\n",
    "    citations_direcotry=\"citations\",\n",
    "    templates_direcotry=\"templates\",\n",
    "    outlines_direcotry=\"outlines\",\n",
    ")\n",
    "\n",
    "tests = {'root': '/tmp/.data_lab/slip_box'}"
   ]
  }
 ],
 "metadata": {
  "kernelspec": {
   "display_name": "Python 3",
   "language": "python",
   "name": "python3"
  },
  "language_info": {
   "codemirror_mode": {
    "name": "ipython",
    "version": 3
   },
   "file_extension": ".py",
   "mimetype": "text/x-python",
   "name": "python",
   "nbconvert_exporter": "python",
   "pygments_lexer": "ipython3",
   "version": "3.7.3"
  }
 },
 "nbformat": 4,
 "nbformat_minor": 4
}
