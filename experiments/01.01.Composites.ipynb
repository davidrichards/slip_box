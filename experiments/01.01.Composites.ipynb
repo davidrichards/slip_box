{
 "cells": [
  {
   "cell_type": "markdown",
   "metadata": {},
   "source": [
    "# Composite\n",
    "\n",
    "Can a composite pattern make templating easier?\n",
    "\n",
    "## Templating\n",
    "\n",
    "There are three template targets:\n",
    "\n",
    "* plain text\n",
    "* PDF\n",
    "* Word\n",
    "\n",
    "That's because some of the uses for this are lawyers that use Word documents.\n",
    "\n",
    "I'm building the templating system up from low principles, because everyone tries to start in the middle and I've never found or built a templating system that I've been satisfied with. That's partly because it's an end-user product that's quite finicky. In a tool where you can do anything, anything we do to it can have brittle consequences.\n",
    "\n",
    "Still, the goal is to provide merged documents in a safe way.\n",
    "\n",
    "## Workflow\n",
    "\n",
    "A good system will have:\n",
    "\n",
    "* a valid source document\n",
    "* a valid set of instructions to merge\n",
    "* validation on inputs, even partial ones\n",
    "* conditional sections of documents, based on the dataset\n",
    "* incremental control over merging (partial merges OK)\n",
    "* clear instructions when something failed\n",
    "* document lifecycle, including versions\n",
    "* the ability to target text, PDF, and Word\n",
    "* support from the document and inputs to clean up and guide the process\n",
    "\n",
    "If that's what I want generally, a composite only adds a tree to the system.\n",
    "\n",
    "\n",
    "## Embedments\n",
    "\n",
    "Embedments are basically fields, with foreign code and some smart collections of operations. Using a composite of embedments, we are saying there's a tree of instructions, one instruction per field. That may be the wrong way to think of the problem, considering the real problem defined in Workflow.\n",
    "\n",
    "The Composite comes from the GoF Composite Pattern. The Embedment comes from Martin Fowler's Domain Specific Languages."
   ]
  },
  {
   "cell_type": "markdown",
   "metadata": {},
   "source": [
    "## Basic Model\n",
    "\n",
    "The basic model uses a Component, Composite, and Leaf to create an operational workflow.\n",
    "\n",
    "The original source on this can be [found here](https://sourcemaking.com/design_patterns/composite/python/1)"
   ]
  },
  {
   "cell_type": "code",
   "execution_count": 1,
   "metadata": {},
   "outputs": [],
   "source": [
    "import abc\n",
    "\n",
    "class Component(metaclass=abc.ABCMeta):\n",
    "    \n",
    "    @abc.abstractmethod\n",
    "    def operation(self):\n",
    "        pass\n",
    "    \n",
    "class Composite(Component):\n",
    "    \n",
    "    def __init__(self):\n",
    "        self._children = set()\n",
    "        \n",
    "    def operation(self):\n",
    "        for child in self._children:\n",
    "            child.operation()\n",
    "            \n",
    "    def add(self, component):\n",
    "        self._children.add(component)\n",
    "        \n",
    "    def remove(self, component):\n",
    "        self._children.discard(component)\n",
    "        \n",
    "class Leaf(Component):\n",
    "    def operation(self):\n",
    "        pass\n",
    "\n",
    "class L1(Leaf):\n",
    "    def operation(self):\n",
    "        print(id(self))"
   ]
  },
  {
   "cell_type": "code",
   "execution_count": 2,
   "metadata": {},
   "outputs": [
    {
     "name": "stdout",
     "output_type": "stream",
     "text": [
      "4527109008\n",
      "4527108784\n"
     ]
    }
   ],
   "source": [
    "composite = Composite()\n",
    "composite.add(L1())\n",
    "composite.add(L1())\n",
    "composite.operation()"
   ]
  },
  {
   "cell_type": "code",
   "execution_count": 3,
   "metadata": {},
   "outputs": [
    {
     "name": "stdout",
     "output_type": "stream",
     "text": [
      "4552970760\n",
      "4552970704\n",
      "4552970760\n"
     ]
    }
   ],
   "source": [
    "root = Composite()\n",
    "b1 = Composite()\n",
    "l1 = L1()\n",
    "l2 = L1()\n",
    "b1.add(l1)\n",
    "b1.add(l2)\n",
    "root.add(b1)\n",
    "b2 = Composite()\n",
    "b2.add(l2)\n",
    "root.add(b2)\n",
    "root.operation()"
   ]
  },
  {
   "cell_type": "markdown",
   "metadata": {},
   "source": [
    "### Making Sense\n",
    "\n",
    "Strengths:\n",
    "\n",
    "* a leaf can work with state\n",
    "* Component can be state smart\n",
    "\n",
    "Modifications:\n",
    "\n",
    "* can pass/share state so leaves can work from a collective state\n",
    "* work with a tree and a builder of some sort\n"
   ]
  },
  {
   "cell_type": "code",
   "execution_count": 4,
   "metadata": {},
   "outputs": [],
   "source": [
    "import re\n",
    "import abc\n",
    "from collections.abc import Iterable\n",
    "from functools import partial"
   ]
  },
  {
   "cell_type": "code",
   "execution_count": 5,
   "metadata": {},
   "outputs": [],
   "source": [
    "def listify(o):\n",
    "    if o is None: return []\n",
    "    if isinstance(o, list): return o\n",
    "    if isinstance(o, str): return [o]\n",
    "    if isinstance(o, dict): return [o]\n",
    "    if isinstance(o, Iterable): return list(o)\n",
    "    return [o]\n",
    "\n",
    "class Component(metaclass=abc.ABCMeta):\n",
    "    \n",
    "    @abc.abstractmethod\n",
    "    def __call__(self):\n",
    "        pass\n",
    "    \n",
    "class Composite(Component):\n",
    "    \n",
    "    @classmethod\n",
    "    def build(cls, components, **kw):\n",
    "        return cls(**kw).add(components)\n",
    "    \n",
    "    def __init__(self, **kw):\n",
    "        self._children = []\n",
    "        self.sort_key = kw.get('key')\n",
    "        \n",
    "    @property\n",
    "    def sorter(self):\n",
    "        if self.sort_key is None: return sorted\n",
    "        return partial(sorted, key=self.sort_key)\n",
    "        \n",
    "    def add(self, components):\n",
    "        if not isinstance(components, Iterable): components = [components]\n",
    "        self._children = list(self.sorter(self._children + components))\n",
    "        return self\n",
    "        \n",
    "    def remove(self, components):\n",
    "        if not isinstance(components, Iterable): components = [components]\n",
    "        for component in components:\n",
    "            self._children.remove(component)\n",
    "        return self\n",
    "    \n",
    "    @property\n",
    "    def length(self):\n",
    "        return sum([child.length for child in self._children])\n",
    "    \n",
    "    def __call__(self, *a, **kw):\n",
    "        for child in self._children:\n",
    "            child(*a, **kw)\n",
    "            \n",
    "    def __repr__(self):\n",
    "        return f\"{self.__class__.__name__}: {self.length} leaves\"\n",
    "        \n",
    "class Leaf(Composite):\n",
    "\n",
    "    @classmethod\n",
    "    def hydrate(cls, item):\n",
    "        if isinstance(item, cls): return item\n",
    "        if isinstance(item, dict): return cls(**item)\n",
    "        return cls(item)\n",
    "        \n",
    "    @classmethod\n",
    "    def build(cls, items):\n",
    "        items = listify(items)\n",
    "        leaves = [cls.hydrate(item) for item in items]\n",
    "        return Composite.build(leaves)\n",
    "    \n",
    "    length = 1\n",
    "\n",
    "    def __call__(self, *a, **kw):\n",
    "        pass\n"
   ]
  },
  {
   "cell_type": "code",
   "execution_count": 6,
   "metadata": {},
   "outputs": [],
   "source": [
    "class NaiveEmbedment(Leaf):\n",
    "    def __init__(self, name=None, pattern=None, **kw):\n",
    "        self.name = name\n",
    "        self.pattern = re.compile(name if pattern is None else pattern)\n",
    "        self.kw = kw\n",
    "        \n",
    "    def __call__(self, document, replacement, *a, **kw):\n",
    "        return re.sub(self.pattern, replacement, document)\n",
    "    \n",
    "    def __repr__(self):\n",
    "        return f\"{self.__call__.__name__}: {self.name} {self.pattern}\"\n",
    "    \n",
    "class InsertEmbedment(Leaf):\n",
    "    @classmethod\n",
    "    def build(cls, items):\n",
    "        items = listify(items)\n",
    "        leaves = [cls.hydrate(item) for item in items]\n",
    "        return Composite.build(leaves, key=lambda e: e.location)\n",
    "\n",
    "    def __init__(self, location, name=None, **kw):\n",
    "        self.location = location\n",
    "        self.name = name\n",
    "        self.offset = kw.get('offset', 0)\n",
    "        self.kw = kw\n",
    "        \n",
    "    def __call__(self, document, text, *a, **kw):\n",
    "        offset = kw.get('offset', self.offset)\n",
    "        position = self.location + offset\n",
    "        self.offset = offset + len(text)\n",
    "        result = document[:position] + text + document[position:]\n",
    "        print(result)\n",
    "        return result\n",
    "    \n",
    "    def __repr__(self):\n",
    "        return f\"{self.__class__.__name__} {self.location}\"\n",
    "    "
   ]
  },
  {
   "cell_type": "code",
   "execution_count": 7,
   "metadata": {},
   "outputs": [],
   "source": [
    "r = re.compile('foo')\n",
    "doc = \"foo bar baz foo bar foo\""
   ]
  },
  {
   "cell_type": "code",
   "execution_count": 8,
   "metadata": {},
   "outputs": [
    {
     "data": {
      "text/plain": [
       "'ccc bar baz ccc bar ccc'"
      ]
     },
     "execution_count": 8,
     "metadata": {},
     "output_type": "execute_result"
    }
   ],
   "source": [
    "NaiveEmbedment('foo')(doc, 'ccc')"
   ]
  },
  {
   "cell_type": "code",
   "execution_count": 9,
   "metadata": {},
   "outputs": [
    {
     "name": "stdout",
     "output_type": "stream",
     "text": [
      "foo babcar baz foo bar foo\n",
      "foo bar baabcz foo bar foo\n",
      "foo bar baz fooabc bar foo\n"
     ]
    }
   ],
   "source": [
    "s = InsertEmbedment.build([15, 10, 5])\n",
    "s(doc, 'abc')"
   ]
  },
  {
   "cell_type": "code",
   "execution_count": 10,
   "metadata": {},
   "outputs": [
    {
     "name": "stdout",
     "output_type": "stream",
     "text": [
      "foo bar baz xxx foo bar foo\n",
      "foo bar baz xxx foo bar foo\n"
     ]
    },
    {
     "data": {
      "text/plain": [
       "4"
      ]
     },
     "execution_count": 10,
     "metadata": {},
     "output_type": "execute_result"
    }
   ],
   "source": [
    "s = InsertEmbedment(12, name='incomplete')\n",
    "print(s(doc, 'xxx '))\n",
    "s.offset"
   ]
  },
  {
   "cell_type": "markdown",
   "metadata": {},
   "source": [
    "### Making Sense\n",
    "\n",
    "So, the embedment composite is different:\n",
    "\n",
    "* uses call\n",
    "* has some builders and a hydration mechanism\n",
    "* addresses a sort\n",
    "\n",
    "This makes it easier to assemble, but it's still lacking clarity:\n",
    "\n",
    "* all the steps?\n",
    "* error control?\n",
    "* executable/valid?\n",
    "* state/incremental process?\n",
    "\n",
    "Also, it's hard to say what an embedment should be doing. There's the possiblity of knowing a location, or a slice that should be replaced, but that's difficult. It might be right to have a difficult embedment if the environment needs to learn those kinds of things, and it's easier to get a slice or a location from another tool. Compared to a Jinja template, though, it's opaque. There needs to be confidence from the other tool that this is the right way to address the source document.\n",
    "\n",
    "This makes sense for use cases like:\n",
    "\n",
    "* Given a text document, want to programatically build a template rather than pre-build it.\n",
    "* Given a PDF document, want to create an overlay set of fields.\n",
    "* Given a document and an ML model, I want to see if I can build a fieldset and survey pair."
   ]
  },
  {
   "cell_type": "markdown",
   "metadata": {},
   "source": [
    "## Embedments Composite\n",
    "\n",
    "Embedments is a verb for what a field does. It applies code to embed itself.\n",
    "\n",
    "* All embedments work on documents.\n",
    "* Allow embedments to have an order.\n",
    "* A simple embedment can apply text to a position in the document.\n",
    "* The position is relative to the original location, or something easier to use.\n"
   ]
  },
  {
   "cell_type": "code",
   "execution_count": 11,
   "metadata": {},
   "outputs": [],
   "source": [
    "class TextEmbedment:\n",
    "    \n",
    "    def __init__(self, *a, **kw):\n",
    "        self.kw = kw\n",
    "\n",
    "    @property\n",
    "    def prior_offset(self):\n",
    "        return self.kw.get('offset', 0)\n",
    "    \n",
    "    @property\n",
    "    def posterior_offset(self):\n",
    "        if hasattr(self, 'text'):\n",
    "            length = len(self.text)\n",
    "        else:\n",
    "            lengt = 0\n",
    "        return self.offset + length\n",
    "    \n",
    "    def _get(self, name):\n",
    "        return getattr(self, name) + self.prior_offset\n",
    "    \n",
    "class PlainEmbedment(TextEmbedment):\n",
    "    \n",
    "    def __init__(self, position, text, **kw):\n",
    "        self.position = position\n",
    "        self.text = text\n",
    "        self.kw = kw\n",
    "        \n",
    "    def __call__(self, document):\n",
    "        position = self._get('position')\n",
    "        return document[:position] + self.text + document[position:]\n",
    "    \n",
    "class ReplacingEmbedment(TextEmbedment):\n",
    "    \n",
    "    def __init__(self, begin, end, text, **kw):\n",
    "        self.begin = begin\n",
    "        self.end = end\n",
    "        self.text = text\n",
    "        self.kw = kw\n",
    "        \n",
    "    def __call__(self, document):\n",
    "        begin = self._get('begin')\n",
    "        end = self._get('end')\n",
    "        return document[:begin] + self.text + document[end:]"
   ]
  },
  {
   "cell_type": "code",
   "execution_count": 12,
   "metadata": {},
   "outputs": [],
   "source": [
    "document = \"This is a document.\"\n",
    "embedment = PlainEmbedment(10, 'nice ')\n",
    "assert embedment(document) == \"This is a nice document.\"\n",
    "\n",
    "embedment = ReplacingEmbedment(8, 9, 'one fine')\n",
    "assert embedment(document) == 'This is one fine document.'"
   ]
  },
  {
   "cell_type": "markdown",
   "metadata": {},
   "source": [
    "### Making Sense\n",
    "\n",
    "If I know where something goes, I can apply it.  Therefore:\n",
    "\n",
    "* Learn where something goes by an easier standard (encode what I know when I decide to add a field).\n",
    "* Create a chain of embedments.\n",
    "* Store and use the incrementing offset to apply the embedment to the right location.\n",
    "* Use validation and error control throughout."
   ]
  },
  {
   "cell_type": "markdown",
   "metadata": {},
   "source": [
    "## Regular Expression Field Identity\n",
    "\n",
    "I'm thinking that a hint could be used in a document. Say, field1 is a document marker. I can create a regular expression with a function and then ensure it's unique. If it's a stable identifier, great. If not, use the keywords to make a better regular expression. Default keywords make it obvious what I'm looking for.\n",
    "    \n",
    "I need an obvious way to see how these locations are being developed. Transparency."
   ]
  },
  {
   "cell_type": "code",
   "execution_count": 13,
   "metadata": {},
   "outputs": [],
   "source": [
    "import re"
   ]
  },
  {
   "cell_type": "code",
   "execution_count": 14,
   "metadata": {},
   "outputs": [],
   "source": [
    "def match_count(r, doc, **kw):\n",
    "    if not isinstance(r, re.Pattern): r = re.compile(r)\n",
    "    return len(r.findall(doc))\n",
    "\n",
    "def is_stable(r, docs, **kw):\n",
    "    if not isinstance(docs, list): docs = [docs]\n",
    "    counts = [match_count(r, doc) == 1 for doc in docs]\n",
    "    return all(counts)\n",
    "\n",
    "def location_for(r, doc, **kw):\n",
    "    if not isinstance(r, re.Pattern): r = re.compile(r)\n",
    "    if not is_stable(r, doc, **kw): return (0, 0)\n",
    "    return r.search(doc).span()\n",
    "\n",
    "def insertion_point_for(r, doc, **kw):\n",
    "    begin, _end = location_for(r, doc, **kw)\n",
    "    return begin\n",
    "\n",
    "def replacing_embedment(r, value, doc, **kw):\n",
    "    begin, end = location_for(r, doc, **kw)\n",
    "    return ReplacingEmbedment(begin, end, value)"
   ]
  },
  {
   "cell_type": "code",
   "execution_count": 15,
   "metadata": {},
   "outputs": [],
   "source": [
    "doc = \"uber super duper doc\"\n",
    "field = \"super\"\n",
    "r = re.compile(field)\n",
    "assert match_count(r, doc) == 1\n",
    "assert match_count(field, doc) == 1\n",
    "\n",
    "assert is_stable(field, doc)\n",
    "assert is_stable('uper', doc) is False\n",
    "\n",
    "assert location_for(r, doc) == (5, 10)"
   ]
  },
  {
   "cell_type": "code",
   "execution_count": 16,
   "metadata": {},
   "outputs": [],
   "source": [
    "e = replacing_embedment(r, 'fantastic', doc)\n",
    "# e('fantastic', doc)"
   ]
  },
  {
   "cell_type": "code",
   "execution_count": 17,
   "metadata": {},
   "outputs": [
    {
     "data": {
      "text/plain": [
       "'uber fantastic duper doc'"
      ]
     },
     "execution_count": 17,
     "metadata": {},
     "output_type": "execute_result"
    }
   ],
   "source": [
    "e(doc)"
   ]
  },
  {
   "cell_type": "markdown",
   "metadata": {},
   "source": [
    "### FIXME\n",
    "\n",
    "Fix this: an embedment without the replacement? I don't like this, but it's almost there."
   ]
  },
  {
   "cell_type": "markdown",
   "metadata": {},
   "source": [
    "## Jinja Templates\n",
    "\n",
    "I can create templates out of Jinja instead.\n",
    "\n",
    "Benefits:\n",
    "\n",
    "* no guesswork on fields\n",
    "* loops, conditions, logic\n",
    "* stable, well-executed\n",
    "\n",
    "Costs:\n",
    "\n",
    "* larger framework\n",
    "* not a stepping stone to PDF models"
   ]
  },
  {
   "cell_type": "markdown",
   "metadata": {},
   "source": [
    "### Not Here\n",
    "\n",
    "I'm not going to fully explore Jinja templates here. I don't want to leave that stuff in this lab right now. Better to come back to this, but leaving notes here.  The template I threw away came from the [Jinja documentation](https://jinja.palletsprojects.com/en/2.11.x/)."
   ]
  },
  {
   "cell_type": "code",
   "execution_count": 18,
   "metadata": {},
   "outputs": [],
   "source": [
    "# from jinja2 import Environment, PackageLoader, select_autoescape"
   ]
  },
  {
   "cell_type": "code",
   "execution_count": 19,
   "metadata": {},
   "outputs": [],
   "source": [
    "# title = \"Some Title\"\n",
    "# class User:\n",
    "#     def __init__(self, url, username):\n",
    "#         self.url = url\n",
    "#         self.username = username\n",
    "# users = [User('http://example.com', 'Some User')]"
   ]
  },
  {
   "cell_type": "code",
   "execution_count": 20,
   "metadata": {},
   "outputs": [],
   "source": [
    "# env = Environment(\n",
    "#     loader=PackageLoader('slip_box', 'templates'),\n",
    "#     autoescape=select_autoescape(['html', 'xml'])\n",
    "# )"
   ]
  },
  {
   "cell_type": "code",
   "execution_count": 21,
   "metadata": {},
   "outputs": [],
   "source": [
    "# template = env.get_template('test.html')"
   ]
  },
  {
   "cell_type": "code",
   "execution_count": 22,
   "metadata": {},
   "outputs": [],
   "source": [
    "# print(template.render(title=title, users=users))"
   ]
  },
  {
   "cell_type": "code",
   "execution_count": null,
   "metadata": {},
   "outputs": [],
   "source": []
  }
 ],
 "metadata": {
  "kernelspec": {
   "display_name": "Python 3",
   "language": "python",
   "name": "python3"
  },
  "language_info": {
   "codemirror_mode": {
    "name": "ipython",
    "version": 3
   },
   "file_extension": ".py",
   "mimetype": "text/x-python",
   "name": "python",
   "nbconvert_exporter": "python",
   "pygments_lexer": "ipython3",
   "version": "3.7.3"
  }
 },
 "nbformat": 4,
 "nbformat_minor": 4
}
