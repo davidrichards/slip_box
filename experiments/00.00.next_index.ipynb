{
 "cells": [
  {
   "cell_type": "markdown",
   "metadata": {},
   "source": [
    "# Indexing\n",
    "\n",
    "> to_filename(\"Something Interesting\", index=\"2.b.13\")\n",
    "\n",
    "Produces a filename like:\n",
    "\n",
    "> 2.b.13.something.interesting.md\n",
    "\n",
    "If I want to work with indexes directly, I can:\n",
    "\n",
    "> next_index('1.a')\n",
    "> '1.b'\n",
    "> next_index('1.a.2')\n",
    "> '1.a.3'\n",
    "> next_index('1.abc', alphabet=list('abc')\n",
    "> '1.aca'\n",
    "\n",
    "## TODO\n",
    "\n",
    "* Fix next_index (next_index('1.abc', alphabet=list('abcd')) returns 1.bcabd\n",
    "* Move to nbs\n",
    "* Add .gitkeep to experiments"
   ]
  },
  {
   "cell_type": "code",
   "execution_count": 13,
   "metadata": {},
   "outputs": [],
   "source": [
    "from slip_box.imports import *"
   ]
  },
  {
   "cell_type": "markdown",
   "metadata": {},
   "source": [
    "## Use the Alphabet\n",
    "\n",
    "A deep index can get confusing. 1.1.1.1.1.2 makes it easy to forget or add a 1. Instead, I use 1.a.1.a.1.2. I can still make a mistake, but I make fewer mistakes.\n",
    "\n",
    "This is the principle, and I'll swear by it until my last breath: do one thing. Do one thing at a time. Don't try and remember things, do math, think about the note I'm creating, think about whether it will be useful for something, or whatever. The better I am at focusing, the more effective my work."
   ]
  },
  {
   "cell_type": "code",
   "execution_count": 14,
   "metadata": {},
   "outputs": [],
   "source": [
    "alphabet = list('abcdefghijklmnopqrstuvwxyz')\n",
    "\n",
    "def integer_to_alpha(n, alphabet=alphabet):\n",
    "    \"\"\"Convert numbers > 0 to alphabetic representations.\n",
    "    For the regular alphabet, 1 == a, 26==z, 27==aa,\n",
    "    52 == az, etc.\"\"\"\n",
    "    string = ''\n",
    "    base = len(alphabet)\n",
    "    \n",
    "    while n > 0:\n",
    "        denominator = n // base # denominator from floor division\n",
    "        remainder = n % base\n",
    "\n",
    "        # Take the nth letter in the alphabet.\n",
    "        # 5 would be e, which is the 5th position in the alphabet\n",
    "        # with an index of 4 (zero-based index).\n",
    "        # If there is no remainder, 0 - 1 is -1, the last\n",
    "        # letter in the alphabet.\n",
    "        string = f'{alphabet[remainder - 1]}{string}'\n",
    "\n",
    "        if remainder == 0: # no remainder means decrement the denominator...\n",
    "            denominator -= 1\n",
    "        n = denominator\n",
    "    return string\n",
    "\n",
    "def letter_to_value(letter, alphabet=alphabet):\n",
    "    \"\"\"Where does this letter fall in this alphabet?\"\"\"\n",
    "    if not letter in alphabet: return 0\n",
    "    return (alphabet.index(letter) + 1)\n",
    "\n",
    "def alpha_to_integer(string, alphabet=alphabet):\n",
    "    \"\"\"Convert a string to an integer\"\"\"\n",
    "    letters = list(str(string)) # 'abc' -> ['a', 'b', 'c']\n",
    "    base = len(alphabet)\n",
    "    increasing = list(reversed(letters))\n",
    "    result = 0\n",
    "    for position, letter in enumerate(increasing):\n",
    "        value = letter_to_value(letter, alphabet=alphabet)\n",
    "        value_at_position = (base ** position) * value\n",
    "        result += value_at_position\n",
    "    return result"
   ]
  },
  {
   "cell_type": "code",
   "execution_count": 15,
   "metadata": {},
   "outputs": [],
   "source": [
    "short = list('abc')\n",
    "\n",
    "assert integer_to_alpha(1, short) == 'a'\n",
    "assert integer_to_alpha(2, short) == 'b'\n",
    "assert integer_to_alpha(3, short) == 'c'\n",
    "assert integer_to_alpha(4, short) == 'aa'\n",
    "assert integer_to_alpha(7, short) == 'ba'\n",
    "\n",
    "assert letter_to_value('a', short) == 1\n",
    "assert letter_to_value('b', short) == 2\n",
    "assert letter_to_value('c', short) == 3\n",
    "assert letter_to_value('d', short) == 0\n",
    "assert letter_to_value('A', short) == 0\n",
    "\n",
    "# From 1 to a large number, if I convert the integer\n",
    "# to an alpha, then convert it back, it matches.\n",
    "for i in range(1, 1000):\n",
    "    alpha = integer_to_alpha(i, short)\n",
    "    result = alpha_to_integer(alpha, short)\n",
    "    assert i == result"
   ]
  },
  {
   "cell_type": "markdown",
   "metadata": {},
   "source": [
    "### Making Sense\n",
    "\n",
    "So, combining alphabets, but starting at 1 is useful for indexing. I'm not feeling confident that 1 == a is the place to start. Number systems usually find zero and negative numbers useful. This is a practical system, for indexing, and I'm not sure I know what 0 index in the sense of finding a note means, and I'm sure I don't need to do that.\n",
    "\n",
    "Also, I like that I'm using the approach that Niklas Luhmann (1927-1998) orginally used. He had notecards in a box, I have notes in a directory. We both use this sort of indexing."
   ]
  },
  {
   "cell_type": "markdown",
   "metadata": {},
   "source": [
    "## Increment Indexes\n",
    "\n",
    "I index so I know where to stick the next slip.\n",
    "\n",
    "1 becomes 2, 1.a becomes 1.b when we're just appending the next slip to the tree. This is next_index.\n",
    "\n",
    "If I'm adding a slip that qualifies, challenges, or clarifies an idea, I often like to make it a child. So, a slip about the age of the Sphynx might be about the standard Egyptologists saying it was first constructed around 2,500 BC. If I wanted to use notes from Robert Schoch, the geologist, I'd add a child note that he claims they were built before 9,700 BC. So, the first note could be 3.c.2 and the second 3.c.2.a."
   ]
  },
  {
   "cell_type": "code",
   "execution_count": 16,
   "metadata": {},
   "outputs": [],
   "source": [
    "def is_integer(o):\n",
    "    try:\n",
    "        return int(o) == float(o)\n",
    "    except:\n",
    "        return False\n",
    "\n",
    "def validate_index(current, separator='.', **kw):\n",
    "    \"\"\"Ensure the index can be iterated.\"\"\"\n",
    "    if current is None: return False\n",
    "    if current == '': return False\n",
    "    if len(str(current).split(separator)) == 0: return False\n",
    "    return True\n",
    "        \n",
    "def next_index(current, separator='.', default='1', alphabet=alphabet, **kw):\n",
    "    \"\"\"Get the next value for an index.\n",
    "    None returns '1', '' returns '1',\n",
    "    1.a returns 1.b, etc.\"\"\"\n",
    "    \n",
    "    if not validate_index(current, separator=separator): return default\n",
    "    \n",
    "    current = str(current)\n",
    "    parts = current.split(separator)\n",
    "    o = parts[-1]\n",
    "    valid = parts[:-1]\n",
    "    \n",
    "    if is_integer(o):\n",
    "        integer = int(o)\n",
    "        if integer < 1: integer = 0\n",
    "        value = str(integer + 1)\n",
    "    else:\n",
    "        integer = alpha_to_integer(o)\n",
    "        value = integer_to_alpha(integer + 1, alphabet=alphabet)\n",
    "\n",
    "    valid.append(value)\n",
    "\n",
    "    return separator.join(valid)\n",
    "\n",
    "def next_child(current, separator='.', default='1', alphabet=alphabet, **kw):\n",
    "    \"\"\"Get the next child for an index.\n",
    "    None returns '1', '' returns '1',\n",
    "    1.a returns 1.a.1, 2 returns 2.a.\"\"\"\n",
    "    \n",
    "    if not validate_index(current, separator=separator): return default\n",
    "\n",
    "    current = str(current)\n",
    "    o = current.split(separator)[-1]\n",
    "    if is_integer(o):\n",
    "        value = alphabet[0]\n",
    "    else:\n",
    "        value = '1'\n",
    "    \n",
    "    return current + separator + value"
   ]
  },
  {
   "cell_type": "code",
   "execution_count": 17,
   "metadata": {},
   "outputs": [],
   "source": [
    "assert next_index(None) == '1'\n",
    "assert next_index(None, default=\"foo\") == \"foo\"\n",
    "assert next_index('-1') == '1'\n",
    "assert next_index('') == '1'\n",
    "assert next_index('1') == '2'\n",
    "assert next_index(41) == '42'\n",
    "assert next_index('1.a') == '1.b'\n",
    "assert next_index('42.zsa.13') == '42.zsa.14'\n",
    "assert next_index('2|b|3', separator='|') == '2|b|4'\n",
    "\n",
    "assert next_child(None) == '1'\n",
    "assert next_child(None, default=\"foo\") == \"foo\"\n",
    "assert next_child('-1') == '-1.a'\n",
    "assert next_child('') == '1'\n",
    "assert next_child(41) == '41.a'\n",
    "assert next_child(41, alphabet=list('bcd')) == '41.b'\n",
    "assert next_child('1.a') == '1.a.1'\n",
    "assert next_child('42.zsa') == '42.zsa.1'\n",
    "assert next_child('2|b|3', separator='|') == '2|b|3|a'"
   ]
  },
  {
   "cell_type": "markdown",
   "metadata": {},
   "source": [
    "### Making Sense\n",
    "\n",
    "So, next_index and next_child are working as I'd expect. This version of the code is a **LOT** cleaner than the version I'm replacing. The other system used 20-30 functions and there were bugs in there I didn't have the patience to find.\n",
    "\n",
    "I like the idea that most of these functions take a fairly robust set of parameters, so I can use a different alphabet or separator."
   ]
  },
  {
   "cell_type": "markdown",
   "metadata": {},
   "source": [
    "## Filenames\n",
    "\n",
    "For simplicity, I'm replacing shell whitespace characters with underscores, by default, but not dealing with other problematic input. I may just white list filenames later."
   ]
  },
  {
   "cell_type": "code",
   "execution_count": 18,
   "metadata": {},
   "outputs": [],
   "source": [
    "def to_filename(s, reference=None, index=None, child=False, separator=\".\", suffix=\"md\", **kw):\n",
    "    s = str(s).lower()\n",
    "    title = separator.join(s.split())\n",
    "    if index is None:\n",
    "        fn = next_child if child else next_index\n",
    "        index = fn(reference, separator=separator, **kw)\n",
    "    return f\"{index}{separator}{title}.{suffix}\""
   ]
  },
  {
   "cell_type": "code",
   "execution_count": 19,
   "metadata": {},
   "outputs": [],
   "source": [
    "assert to_filename('abc 123') == '1.abc.123.md'\n",
    "assert to_filename('  ABC   123   ') == '1.abc.123.md'\n",
    "assert to_filename('abc 123', separator='|') == '1|abc|123.md'\n",
    "assert to_filename('abc 123', index='2.b.1') == '2.b.1.abc.123.md'\n",
    "assert to_filename('abc 123', reference='2.b') == '2.c.abc.123.md'\n",
    "assert to_filename('abc 123', reference='2.b', child=True) == '2.b.1.abc.123.md'\n",
    "assert to_filename('abc 123', suffix='markdown') == '1.abc.123.markdown'"
   ]
  },
  {
   "cell_type": "markdown",
   "metadata": {},
   "source": [
    "### Making Sense\n",
    "\n",
    "The idea is that titles and indexes combine to make filenames. I think I've captured a reasonable set of defaults.\n",
    "\n",
    "This doesn't mean a filename will work with a POSIX operating system, on S3, or anyplace. It just means that an idea can be easily converted to a filename if I remember how I'm using this information."
   ]
  },
  {
   "cell_type": "code",
   "execution_count": null,
   "metadata": {},
   "outputs": [],
   "source": []
  }
 ],
 "metadata": {
  "kernelspec": {
   "display_name": "Python 3",
   "language": "python",
   "name": "python3"
  },
  "language_info": {
   "codemirror_mode": {
    "name": "ipython",
    "version": 3
   },
   "file_extension": ".py",
   "mimetype": "text/x-python",
   "name": "python",
   "nbconvert_exporter": "python",
   "pygments_lexer": "ipython3",
   "version": "3.7.3"
  }
 },
 "nbformat": 4,
 "nbformat_minor": 4
}
