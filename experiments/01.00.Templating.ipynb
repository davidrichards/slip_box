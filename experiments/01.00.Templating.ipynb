{
 "cells": [
  {
   "cell_type": "markdown",
   "metadata": {},
   "source": [
    "# Templating\n",
    "\n",
    "Templated slips are meant to allow more than just a note body to be used, and sense made from that other information.\n",
    "\n",
    "What I typically do with a temporary note is find an index that attaches the idea to something existing, write a title for the note, get a filename, attach the body, cite the body, and save the record. The citation is often in a Zotero collection. When I organize a paper, I'll outline notes, export them, and attach the full citations that are in APA version 6 or 7 format. The citations get extracted from Zotero throughout the day and are stored parallel to an outline so all I have to do is alphabetize the list and I have a references section for an article.\n",
    "\n",
    "I haven't written formal papers. I haven't published most of what I've written. I don't know what else I'll learn as I do more of this.\n",
    "\n",
    "What I'm admitting to is an openness with my slips. How is this useful? Can I do it a better way? Am I trying to do too many things at once? Have I allowed tedium into my workflow because I as too lazy to address it? Am I better off from the effort?\n",
    "\n",
    "In other words, start to validate some input, give it structure, learn workflows that I want to keep that also leave a minimal footprint in someone's lab work.\n",
    "\n",
    "Howard's approach, the notebook is primal, misses the point. It does a lot of the experiment-first work, but it doesn't offer a way to organize, curate, attach, search, reuse in the same way. There are tradeoffs. Still, Jeremy Howard gets the closest to an iteratively improving workflow that I've seen anywhere."
   ]
  },
  {
   "cell_type": "markdown",
   "metadata": {},
   "source": [
    "## Candidate Validators\n",
    "\n",
    "I have three validation packages and the standard library validate to consider:\n",
    "\n",
    "* validate\n",
    "* Schema\n",
    "* Valideer\n",
    "* Schematics\n",
    "\n",
    "I've alredy discarded about a half a dozen validation tools becaue they were built for other purposes. These include Great Expectations, Protobuf, Voloptuous, Colander, Cerebus.\n",
    "\n",
    "Great Expectations is amazing for data pipelines. I suspect Colander and Cerebus are designed for the same purpose. These could be used to make the data work, but taking a single record and learning whether to use it, how to adjust the types, and how to understand what the record is good for is a bit of a different problem.\n",
    "\n",
    "Protobuf is a little heavy. I've used it in a couple projects, and it's fine, but it's a bit of extra work to do simple things. If I had tens of thousands of schemas, like Google does, needed to work in any language, had to keep it all versioned, and really needed a top-down view of all of it is working, or not--then Protobuf is my tool.\n",
    "\n",
    "Voloptuous is an abandoned piece of software that failed to build a community, had some good ideas, but left some tedium in the way. I suspect the author needed to improve an application, did a good job, and moved on. That said, it's the missing parts of Schema.\n",
    "\n",
    "The validators package creates complexity through trying to be simple. I may have the same problem with this effort. Addressing specific problems makes it harder to address other ones. Or, the tools are there to adjust things, but that's not the primary purpose of the tool.\n",
    "\n",
    "\n",
    "### Main Candidates\n",
    "\n",
    "The validate code is shipped with ConfigObj, though it's deployed in a funny way, on its own. It can be found [here](https://github.com/DiffSK/configobj) and has quite a few useful tools in it. It's probably enough for everything I would want, and I'm using its progenetor, ConfigObj, anyway.\n",
    "\n",
    "Schema must be wrapped. As mentioned above, Voloptuous is a good way to do this. I've done it a different way in other projects. If it's not wrapped, the errors and conditions leak out and create a frail validation scenario. The principle is always drive details deep so there's a useful interface, and Schema fails to do that.\n",
    "\n",
    "Valideer creates a more-robust schema. Each field can be required, described, or conformed. Once data is parsed, it provides a validator object that contains the information I need. This is often what I'm up to with wrapping Schema. It can be extended naturally, not falling into the simple trap validators does.\n",
    "\n",
    "\n",
    "--\n",
    "\n",
    "\n",
    "There's also type hints and data classes in Python 3 which might be the simplest solution. We can get type hints and enforce/validate input with Python directly ([article here](https://aboutsimon.com/blog/2018/04/04/Python3-Type-Checking-And-Data-Validation-With-Type-Hints.html))"
   ]
  },
  {
   "cell_type": "code",
   "execution_count": 1,
   "metadata": {},
   "outputs": [],
   "source": [
    "import validate"
   ]
  },
  {
   "cell_type": "code",
   "execution_count": 2,
   "metadata": {},
   "outputs": [],
   "source": [
    "validate??"
   ]
  },
  {
   "cell_type": "code",
   "execution_count": null,
   "metadata": {},
   "outputs": [],
   "source": []
  }
 ],
 "metadata": {
  "kernelspec": {
   "display_name": "Python 3",
   "language": "python",
   "name": "python3"
  },
  "language_info": {
   "codemirror_mode": {
    "name": "ipython",
    "version": 3
   },
   "file_extension": ".py",
   "mimetype": "text/x-python",
   "name": "python",
   "nbconvert_exporter": "python",
   "pygments_lexer": "ipython3",
   "version": "3.7.3"
  }
 },
 "nbformat": 4,
 "nbformat_minor": 4
}
